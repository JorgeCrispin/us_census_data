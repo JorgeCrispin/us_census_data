{
 "cells": [
  {
   "cell_type": "markdown",
   "metadata": {},
   "source": [
    "# Cleaning US Census Data"
   ]
  },
  {
   "cell_type": "markdown",
   "metadata": {},
   "source": [
    "You just got hired as a Data Analyst at the Census Bureau, which collects census data and creates interesting visualizations and insights from it.\n",
    "\n",
    "The person who had your job before you left you all the data they had for the most recent census. It is in multiple `csv` files. They didn't use pandas, they would just look through these `csv` files manually whenever they wanted to find something. Sometimes they would copy and paste certain numbers into Excel to make charts.\n",
    "\n",
    "The thought of it makes you shiver. This is not scalable or repeatable.\n",
    "\n",
    "Your boss wants you to make some scatterplots and histograms by the end of the day. Can you get this data into `pandas` and into reasonable shape so that you can make these histograms?"
   ]
  },
  {
   "cell_type": "markdown",
   "metadata": {},
   "source": [
    "## Inspect the Data!"
   ]
  },
  {
   "cell_type": "markdown",
   "metadata": {},
   "source": [
    "1. The first visualization your boss wants you to make is a scatterplot that shows average income in a state vs proportion of women in that state.\n",
    "\n",
    "   Open some of the census `csv` files that came with the kit you downloaded. How are they named? What kind of information do they hold? Will they help us make this graph?"
   ]
  },
  {
   "cell_type": "code",
   "execution_count": 1,
   "metadata": {},
   "outputs": [
    {
     "name": "stdout",
     "output_type": "stream",
     "text": [
      "['ï»¿,State,TotalPop,Hispanic,White,Black,Native,Asian,Pacific,Income,GenderPop\\n', '0,Alabama,4830620,3.75%,61.88%,31.25%,0.45%,1.05%,0.03%,\"$43,296.36 \",2341093M_2489527F\\n', '1,Alaska,733375,5.91%,60.91%,2.85%,16.39%,5.45%,1.06%,\"$70,354.74 \",384160M_349215F\\n', '2,Arizona,6641928,29.57%,57.12%,3.85%,4.36%,2.88%,0.17%,\"$54,207.82 \",3299088M_3342840F\\n', '3,Arkansas,2958208,6.22%,71.14%,18.97%,0.52%,1.14%,0.15%,\"$41,935.63 \",1451913M_1506295F\\n', '4,California,38421464,37.29%,40.22%,5.68%,0.41%,13.05%,0.35%,\"$67,264.78 \",19087135M_19334329F\\n', '5,Colorado,5278906,20.78%,69.90%,3.55%,0.57%,2.66%,,\"$64,657.80 \",2648667M_2630239F\\n']\n"
     ]
    }
   ],
   "source": [
    "f = open(\"states0.csv\", \"r\")\n",
    "print(f.readlines())\n",
    "\n",
    "    "
   ]
  },
  {
   "cell_type": "markdown",
   "metadata": {},
   "source": [
    "2. It will be easier to inspect this data once we have it in a DataFrame. You can't even call `.head()` on these `csv`s! How are you supposed to read them?\n",
    "\n",
    "   Using `glob`, loop through the census files available and load them into DataFrames. Then, concatenate all of those DataFrames together into one DataFrame, called something like `us_census`."
   ]
  },
  {
   "cell_type": "code",
   "execution_count": 2,
   "metadata": {},
   "outputs": [],
   "source": [
    "import pandas as pd\n",
    "import numpy as np\n",
    "import matplotlib.pyplot as plt\n",
    "import glob as glob\n",
    "import re\n",
    "import math\n",
    "files = glob.glob(\"states*.csv\")\n",
    " \n",
    "df_list = []\n",
    "for filename in files:\n",
    "  data = pd.read_csv(filename)\n",
    "  df_list.append(data)\n",
    "us_census = pd.concat(df_list)  \n"
   ]
  },
  {
   "cell_type": "markdown",
   "metadata": {},
   "source": [
    "3. Look at the `.columns` and the `.dtypes` of the `us_census` DataFrame. Are those datatypes going to hinder you as you try to make histograms?"
   ]
  },
  {
   "cell_type": "code",
   "execution_count": 3,
   "metadata": {
    "scrolled": true
   },
   "outputs": [
    {
     "name": "stdout",
     "output_type": "stream",
     "text": [
      "Index(['Unnamed: 0', 'State', 'TotalPop', 'Hispanic', 'White', 'Black',\n",
      "       'Native', 'Asian', 'Pacific', 'Income', 'GenderPop'],\n",
      "      dtype='object')\n",
      "Unnamed: 0     int64\n",
      "State         object\n",
      "TotalPop       int64\n",
      "Hispanic      object\n",
      "White         object\n",
      "Black         object\n",
      "Native        object\n",
      "Asian         object\n",
      "Pacific       object\n",
      "Income        object\n",
      "GenderPop     object\n",
      "dtype: object\n",
      "   Unnamed: 0       State  TotalPop Hispanic   White   Black  Native   Asian  \\\n",
      "0           0     Alabama   4830620    3.75%  61.88%  31.25%   0.45%   1.05%   \n",
      "1           1      Alaska    733375    5.91%  60.91%   2.85%  16.39%   5.45%   \n",
      "2           2     Arizona   6641928   29.57%  57.12%   3.85%   4.36%   2.88%   \n",
      "3           3    Arkansas   2958208    6.22%  71.14%  18.97%   0.52%   1.14%   \n",
      "4           4  California  38421464   37.29%  40.22%   5.68%   0.41%  13.05%   \n",
      "\n",
      "  Pacific       Income            GenderPop  \n",
      "0   0.03%  $43,296.36     2341093M_2489527F  \n",
      "1   1.06%  $70,354.74       384160M_349215F  \n",
      "2   0.17%  $54,207.82     3299088M_3342840F  \n",
      "3   0.15%  $41,935.63     1451913M_1506295F  \n",
      "4   0.35%  $67,264.78   19087135M_19334329F  \n"
     ]
    }
   ],
   "source": [
    "\n",
    "print(us_census.columns)\n",
    "print(us_census.dtypes)\n",
    "print(us_census.head())\n"
   ]
  },
  {
   "cell_type": "markdown",
   "metadata": {},
   "source": [
    "4. Look at the `head()` of the DataFrame so that you can understand why some of these `dtypes` are objects instead of integers or floats.\n",
    "\n",
    "   Start to make a plan for how to convert these columns into the right types for manipulation."
   ]
  },
  {
   "cell_type": "code",
   "execution_count": 33,
   "metadata": {},
   "outputs": [
    {
     "name": "stdout",
     "output_type": "stream",
     "text": [
      "['43296.36', '70354.74', '54207.82', '41935.63', '67264.78', '64657.80', '64657.80', '76146.56', '61827.98', '75466.36', '50690.19', '50811.08', '50811.08', '73264.43', '48017.32', '59587.05', '48616.23', '53017.75', '53017.75', '53885.61', '45285.80', '44957.99', '49181.97', '78765.40', '78765.40', '72838.94', '51201.83', '62820.83', '38909.92', '49763.99', '49763.99', '47645.68', '55916.47', '55526.53', '68728.86', '76581.08', '76581.08', '47329.97', '64290.75', '49937.46', '58188.11', '49655.25', '49655.25', '48100.85', '54271.90', '56170.46', '20720.54', '59125.27', '59125.27', '46296.81', '51805.41', '47328.08', '55874.52', '63488.92', '63488.92', '55602.97', '72866.01', '64493.77', '41437.11', '53898.89']\n"
     ]
    }
   ],
   "source": [
    "no_dollar_sign = []\n",
    "for value in us_census.Income:\n",
    "  no_dollar_sign.append(value.replace('$', ''))\n",
    "no_space = []\n",
    "for value in no_dollar_sign:\n",
    "  no_space.append(value.replace(' ', ''))\n",
    "no_comma = []\n",
    "for value in no_space:\n",
    "    no_comma.append(value.replace(',',''))\n",
    "    \n",
    "print(no_comma)        \n"
   ]
  },
  {
   "cell_type": "markdown",
   "metadata": {},
   "source": [
    "## Regex to the Rescue"
   ]
  },
  {
   "cell_type": "markdown",
   "metadata": {},
   "source": [
    "5. Use regex to turn the `Income` column into a format that is ready for conversion into a numerical type."
   ]
  },
  {
   "cell_type": "code",
   "execution_count": 37,
   "metadata": {},
   "outputs": [
    {
     "name": "stdout",
     "output_type": "stream",
     "text": [
      "0    43296.36\n",
      "1    70354.74\n",
      "2    54207.82\n",
      "3    41935.63\n",
      "4    67264.78\n",
      "Name: Income, dtype: float64\n"
     ]
    }
   ],
   "source": [
    "us_census.Income = no_comma\n",
    "us_census.Income = pd.to_numeric(us_census.Income)\n",
    "print(us_census.Income.head())"
   ]
  },
  {
   "cell_type": "markdown",
   "metadata": {},
   "source": [
    "6. Look at the `GenderPop` column. We are going to want to separate this into two columns, the `Men` column, and the `Women` column.\n",
    "\n",
    "   Split the column into those two new columns using `str.split` and separating out those results."
   ]
  },
  {
   "cell_type": "code",
   "execution_count": 61,
   "metadata": {
    "scrolled": true
   },
   "outputs": [
    {
     "name": "stdout",
     "output_type": "stream",
     "text": [
      "         Men      Women\n",
      "0   2341093M   2489527F\n",
      "1    384160M    349215F\n",
      "2   3299088M   3342840F\n",
      "3   1451913M   1506295F\n",
      "4  19087135M  19334329F\n"
     ]
    }
   ],
   "source": [
    "us_census[['Men', 'Women']] = us_census['GenderPop'].str.split('_', expand = True)\n",
    "print(us_census[['Men', 'Women']].head())\n"
   ]
  },
  {
   "cell_type": "markdown",
   "metadata": {},
   "source": [
    "7. Convert both of the columns into numerical datatypes.\n",
    "\n",
    "   There is still an `M` or an `F` character in each entry! We should remove those before we convert."
   ]
  },
  {
   "cell_type": "code",
   "execution_count": 62,
   "metadata": {},
   "outputs": [],
   "source": [
    "no_M = []\n",
    "for item in us_census.Men:\n",
    "    no_M.append(item.replace(\"M\",\"\"))\n",
    "no_F = []\n",
    "for item in us_census.Women:\n",
    "    no_F.append(item.replace('F',''))\n",
    "us_census.Women = no_F\n",
    "us_census.Men = no_M\n",
    "us_census['Women'] = pd.to_numeric(us_census.Women)\n",
    "us_census.Men = pd.to_numeric(us_census.Men)\n"
   ]
  },
  {
   "cell_type": "markdown",
   "metadata": {},
   "source": [
    "8. Now you should have the columns you need to make the graph and make sure your boss does not slam a ruler angrily on your desk because you've wasted your whole day cleaning your data with no results to show!\n",
    "\n",
    "   Use matplotlib to make a scatterplot!\n",
    "   \n",
    "   ```py\n",
    "   plt.scatter(the_women_column, the_income_column)\n",
    "   ```\n",
    "   \n",
    "   Remember to call `plt.show()` to see the graph!"
   ]
  },
  {
   "cell_type": "code",
   "execution_count": 63,
   "metadata": {
    "scrolled": true
   },
   "outputs": [
    {
     "data": {
      "text/plain": [
       "<function matplotlib.pyplot.show(close=None, block=None)>"
      ]
     },
     "execution_count": 63,
     "metadata": {},
     "output_type": "execute_result"
    },
    {
     "data": {
      "image/png": "[encoded data removed]",
      "text/plain": [
       "<Figure size 640x480 with 1 Axes>"
      ]
     },
     "metadata": {},
     "output_type": "display_data"
    }
   ],
   "source": [
    "plt.scatter(us_census.Women,us_census.Income)\n",
    "plt.show"
   ]
  },
  {
   "cell_type": "markdown",
   "metadata": {},
   "source": [
    "9. You want to double check your work. You know from experience that these monstrous csv files probably have `nan` values in them! Print out your column with the number of women per state to see.\n",
    "\n",
    "   We can fill in those `nan`s by using pandas' `.fillna()` function.\n",
    "   \n",
    "   You have the `TotalPop` per state, and you have the `Men` per state. As an estimate for the `nan` values in the `Women` column, you could use the `TotalPop` of that state minus the `Men` for that state.\n",
    "   \n",
    "   Print out the `Women` column after filling the `nan` values to see if it worked!"
   ]
  },
  {
   "cell_type": "code",
   "execution_count": 67,
   "metadata": {},
   "outputs": [
    {
     "name": "stdout",
     "output_type": "stream",
     "text": [
      "0     2489527.0\n",
      "1      349215.0\n",
      "2     3342840.0\n",
      "3     1506295.0\n",
      "4    19334329.0\n",
      "Name: Women, dtype: float64\n"
     ]
    }
   ],
   "source": [
    "#print(us_census.Women)\n",
    "us_census.Women = us_census.Women.fillna(us_census.TotalPop - us_census.Men)\n",
    "print(us_census.Women.head())"
   ]
  },
  {
   "cell_type": "markdown",
   "metadata": {},
   "source": [
    "10. We forgot to check for duplicates! Use `.duplicated()` on your `census` DataFrame to see if we have duplicate rows in there."
   ]
  },
  {
   "cell_type": "code",
   "execution_count": 71,
   "metadata": {},
   "outputs": [
    {
     "data": {
      "text/plain": [
       "<bound method DataFrame.duplicated of    Unnamed: 0                 State  TotalPop Hispanic   White   Black  \\\n",
       "0           0               Alabama   4830620    3.75%  61.88%  31.25%   \n",
       "1           1                Alaska    733375    5.91%  60.91%   2.85%   \n",
       "2           2               Arizona   6641928   29.57%  57.12%   3.85%   \n",
       "3           3              Arkansas   2958208    6.22%  71.14%  18.97%   \n",
       "4           4            California  38421464   37.29%  40.22%   5.68%   \n",
       "5           5              Colorado   5278906   20.78%  69.90%   3.55%   \n",
       "0           0              Colorado   5278906   20.78%  69.90%   3.55%   \n",
       "1           1           Connecticut   3593222   15.60%  67.68%  10.35%   \n",
       "2           2              Delaware    926454    8.82%  64.63%  20.74%   \n",
       "3           3  District of Columbia    647484    9.17%  33.10%  51.78%   \n",
       "4           4               Florida  19645772   21.34%  59.08%  15.17%   \n",
       "5           5               Georgia  10006693    8.42%  54.29%  32.09%   \n",
       "0           0               Georgia  10006693    8.42%  54.29%  32.09%   \n",
       "1           1                Hawaii   1406299    9.19%  25.03%   2.05%   \n",
       "2           2                 Idaho   1616547   11.51%  83.14%   0.57%   \n",
       "3           3              Illinois  12873761   15.60%  60.86%  17.11%   \n",
       "4           4               Indiana   6568645    6.54%  78.43%  11.19%   \n",
       "5           5                  Iowa   3093526    5.30%  87.72%   3.26%   \n",
       "0           0                  Iowa   3093526    5.30%  87.72%   3.26%   \n",
       "1           1                Kansas   2892987   11.64%  75.96%   6.57%   \n",
       "2           2              Kentucky   4397353    3.22%  85.23%   8.27%   \n",
       "3           3             Louisiana   4625253    4.87%  54.98%  36.33%   \n",
       "4           4                 Maine   1329100    1.43%  93.71%   1.13%   \n",
       "5           5              Maryland   5930538    8.47%  52.68%  30.68%   \n",
       "0           0              Maryland   5930538    8.47%  52.68%  30.68%   \n",
       "1           1         Massachusetts   6705586   11.46%  73.04%   6.83%   \n",
       "2           2              Michigan   9900571    4.63%  72.38%  17.63%   \n",
       "3           3             Minnesota   5419171    5.15%  81.43%   5.66%   \n",
       "4           4           Mississippi   2988081    2.84%  53.29%  41.49%   \n",
       "5           5              Missouri   6045448    4.04%  77.51%  14.12%   \n",
       "0           0              Missouri   6045448    4.04%  77.51%  14.12%   \n",
       "1           1               Montana   1014699    3.27%  86.42%   0.43%   \n",
       "2           2              Nebraska   1869365    9.20%  81.14%   4.96%   \n",
       "3           3                Nevada   2798636   27.10%  53.24%   7.74%   \n",
       "4           4         New Hampshire   1324201    3.32%  91.32%   1.23%   \n",
       "5           5            New Jersey   8904413   18.75%  56.49%  14.39%   \n",
       "0           0            New Jersey   8904413   18.75%  56.49%  14.39%   \n",
       "1           1            New Mexico   2084117   45.28%  40.70%   1.76%   \n",
       "2           2              New York  19673174   17.24%  56.47%  15.67%   \n",
       "3           3        North Carolina   9845333    8.46%  64.60%  21.40%   \n",
       "4           4          North Dakota    721640    2.83%  87.45%   1.28%   \n",
       "5           5                  Ohio  11575977    3.67%  75.90%  16.21%   \n",
       "0           0                  Ohio  11575977    3.67%  75.90%  16.21%   \n",
       "1           1              Oklahoma   3849733   10.08%  66.06%   8.31%   \n",
       "2           2                Oregon   3939233   11.44%  78.40%   1.73%   \n",
       "3           3          Pennsylvania  12779559    6.13%  77.38%  11.63%   \n",
       "4           4           Puerto Rico   3583073   98.89%   0.77%   0.09%   \n",
       "5           5          Rhode Island   1053661   13.36%  74.33%   5.68%   \n",
       "0           0          Rhode Island   1053661   13.36%  74.33%   5.68%   \n",
       "1           1        South Carolina   4777576    5.06%  62.89%  28.75%   \n",
       "2           2          South Dakota    843190    3.24%  82.50%   1.42%   \n",
       "3           3             Tennessee   6499615    4.72%  73.49%  18.28%   \n",
       "4           4                 Texas  26538614   38.05%  44.69%  11.65%   \n",
       "5           5                  Utah   2903379   13.47%  79.41%   1.02%   \n",
       "0           0                  Utah   2903379   13.47%  79.41%   1.02%   \n",
       "1           1               Vermont    626604    1.61%  93.98%   0.98%   \n",
       "2           2              Virginia   8256630    8.01%  63.27%  20.18%   \n",
       "3           3            Washington   6985464   11.14%  72.04%   3.38%   \n",
       "4           4         West Virginia   1851420    1.29%  92.18%   3.66%   \n",
       "5           5             Wisconsin   5742117    6.68%  79.86%   8.20%   \n",
       "\n",
       "   Native   Asian Pacific    Income            GenderPop       Men       Women  \n",
       "0   0.45%   1.05%   0.03%  43296.36    2341093M_2489527F   2341093   2489527.0  \n",
       "1  16.39%   5.45%   1.06%  70354.74      384160M_349215F    384160    349215.0  \n",
       "2   4.36%   2.88%   0.17%  54207.82    3299088M_3342840F   3299088   3342840.0  \n",
       "3   0.52%   1.14%   0.15%  41935.63    1451913M_1506295F   1451913   1506295.0  \n",
       "4   0.41%  13.05%   0.35%  67264.78  19087135M_19334329F  19087135  19334329.0  \n",
       "5   0.57%   2.66%     NaN  64657.80    2648667M_2630239F   2648667   2630239.0  \n",
       "0   0.57%   2.66%     NaN  64657.80    2648667M_2630239F   2648667   2630239.0  \n",
       "1   0.13%   4.02%   0.02%  76146.56    1751607M_1841615F   1751607   1841615.0  \n",
       "2   0.26%   3.27%     NaN  61827.98      448413M_478041F    448413    478041.0  \n",
       "3   0.20%   3.38%   0.03%  75466.36      306674M_340810F    306674    340810.0  \n",
       "4   0.21%   2.28%   0.05%  50690.19   9600009M_10045763F   9600009  10045763.0  \n",
       "5   0.19%   3.10%   0.05%  50811.08    4883331M_5123362F   4883331   5123362.0  \n",
       "0   0.19%   3.10%   0.05%  50811.08    4883331M_5123362F   4883331   5123362.0  \n",
       "1   0.14%  36.59%   8.76%  73264.43      709871M_696428F    709871    696428.0  \n",
       "2   1.47%   1.14%   0.13%  48017.32      810464M_806083F    810464    806083.0  \n",
       "3   0.12%   4.48%   0.02%  59587.05    6316899M_6556862F   6316899   6556862.0  \n",
       "4   0.19%   1.58%   0.03%  48616.23    3235263M_3333382F   3235263   3333382.0  \n",
       "5   0.29%   1.70%   0.06%  53017.75    1534595M_1558931F   1534595   1558931.0  \n",
       "0   0.29%   1.70%   0.06%  53017.75    1534595M_1558931F   1534595   1558931.0  \n",
       "1   0.73%   2.33%     NaN  53885.61    1439862M_1453125F   1439862   1453125.0  \n",
       "2   0.17%   1.13%   0.05%  45285.80    2164208M_2233145F   2164208   2233145.0  \n",
       "3   0.48%   1.67%   0.04%  44957.99    2261156M_2364097F   2261156   2364097.0  \n",
       "4   0.79%   0.97%   0.02%  49181.97      650081M_679019F    650081    679019.0  \n",
       "5   0.20%   5.33%   0.04%  78765.40           2872643M_F   2872643   3057895.0  \n",
       "0   0.20%   5.33%   0.04%  78765.40           2872643M_F   2872643   3057895.0  \n",
       "1   0.13%   5.84%   0.02%  72838.94    3249650M_3455936F   3249650   3455936.0  \n",
       "2   0.48%   2.42%   0.02%  51201.83    4861973M_5038598F   4861973   5038598.0  \n",
       "3   1.07%   4.16%   0.03%  62820.83    2692166M_2727005F   2692166   2727005.0  \n",
       "4   0.39%   0.88%   0.02%  38909.92    1451723M_1536358F   1451723   1536358.0  \n",
       "5   0.36%   1.62%   0.10%  49763.99    2964003M_3081445F   2964003   3081445.0  \n",
       "0   0.36%   1.62%   0.10%  49763.99    2964003M_3081445F   2964003   3081445.0  \n",
       "1   7.06%   0.57%   0.07%  47645.68            510163M_F    510163    504536.0  \n",
       "2   0.86%   1.86%   0.06%  55916.47      929606M_939759F    929606    939759.0  \n",
       "3   1.09%   7.10%   0.57%  55526.53    1407735M_1390901F   1407735   1390901.0  \n",
       "4   0.14%   2.19%   0.02%  68728.86      653484M_670717F    653484    670717.0  \n",
       "5   0.12%   8.16%   0.03%  76581.08    4343027M_4561386F   4343027   4561386.0  \n",
       "0   0.12%   8.16%   0.03%  76581.08    4343027M_4561386F   4343027   4561386.0  \n",
       "1   9.25%   1.23%   0.04%  47329.97    1032414M_1051703F   1032414   1051703.0  \n",
       "2   0.32%   7.90%   0.02%  64290.75   9541801M_10131373F   9541801  10131373.0  \n",
       "3   1.09%   2.32%   0.05%  49937.46    4795408M_5049925F   4795408   5049925.0  \n",
       "4   5.65%   0.96%     NaN  58188.11      367963M_353677F    367963    353677.0  \n",
       "5   0.17%   1.62%   0.02%  49655.25    5662893M_5913084F   5662893   5913084.0  \n",
       "0   0.17%   1.62%   0.02%  49655.25    5662893M_5913084F   5662893   5913084.0  \n",
       "1   6.72%   1.80%   0.11%  48100.85    1906944M_1942789F   1906944   1942789.0  \n",
       "2   1.00%   3.59%   0.35%  54271.90    1948453M_1990780F   1948453   1990780.0  \n",
       "3   0.12%   2.80%   0.02%  56170.46    6245344M_6534215F   6245344   6534215.0  \n",
       "4   0.00%   0.08%   0.00%  20720.54    1713860M_1869213F   1713860   1869213.0  \n",
       "5   0.35%   3.25%   0.04%  59125.27      510388M_543273F    510388    543273.0  \n",
       "0   0.35%   3.25%   0.04%  59125.27      510388M_543273F    510388    543273.0  \n",
       "1   0.29%   1.25%   0.05%  46296.81    2322409M_2455167F   2322409   2455167.0  \n",
       "2   9.42%   1.02%   0.04%  51805.41      423477M_419713F    423477    419713.0  \n",
       "3   0.23%   1.41%   0.04%  47328.08    3167756M_3331859F   3167756   3331859.0  \n",
       "4   0.26%   3.67%   0.07%  55874.52  13171316M_13367298F  13171316  13367298.0  \n",
       "5   1.08%   2.20%   0.83%  63488.92    1459229M_1444150F   1459229   1444150.0  \n",
       "0   1.08%   2.20%   0.83%  63488.92    1459229M_1444150F   1459229   1444150.0  \n",
       "1   0.30%   1.24%   0.03%  55602.97      308573M_318031F    308573    318031.0  \n",
       "2   0.21%   5.46%   0.06%  72866.01    4060948M_4195682F   4060948   4195682.0  \n",
       "3   1.41%   7.02%   0.61%  64493.77    3487725M_3497739F   3487725   3497739.0  \n",
       "4   0.15%   0.68%   0.03%  41437.11      913631M_937789F    913631    937789.0  \n",
       "5   0.95%   2.40%   0.02%  53898.89    2851385M_2890732F   2851385   2890732.0  >"
      ]
     },
     "execution_count": 71,
     "metadata": {},
     "output_type": "execute_result"
    }
   ],
   "source": [
    "us_census.duplicated"
   ]
  },
  {
   "cell_type": "markdown",
   "metadata": {},
   "source": [
    "11. Drop those duplicates using the `.drop_duplicates()` function."
   ]
  },
  {
   "cell_type": "code",
   "execution_count": 73,
   "metadata": {
    "scrolled": false
   },
   "outputs": [],
   "source": [
    "us_census = us_census.drop_duplicates()\n"
   ]
  },
  {
   "cell_type": "markdown",
   "metadata": {},
   "source": [
    "12. Make the scatterplot again. Now, it should be perfect! Your job is secure, for now."
   ]
  },
  {
   "cell_type": "code",
   "execution_count": 114,
   "metadata": {},
   "outputs": [
    {
     "data": {
      "text/plain": [
       "<function matplotlib.pyplot.show(close=None, block=None)>"
      ]
     },
     "execution_count": 114,
     "metadata": {},
     "output_type": "execute_result"
    },
    {
     "data": {
      "image/png": "[encoded data removed]",
      "text/plain": [
       "<Figure size 640x480 with 1 Axes>"
      ]
     },
     "metadata": {},
     "output_type": "display_data"
    }
   ],
   "source": [
    "plt.scatter(us_census.Women,us_census.Income)\n",
    "plt.show"
   ]
  },
  {
   "cell_type": "markdown",
   "metadata": {},
   "source": [
    "## Histogram of Races"
   ]
  },
  {
   "cell_type": "markdown",
   "metadata": {},
   "source": [
    "13. Now your boss wants you to make a bunch of histograms out of the race data that you have. Look at the `.columns` again to see what the race categories are."
   ]
  },
  {
   "cell_type": "code",
   "execution_count": 76,
   "metadata": {},
   "outputs": [
    {
     "name": "stdout",
     "output_type": "stream",
     "text": [
      "Index(['Unnamed: 0', 'State', 'TotalPop', 'Hispanic', 'White', 'Black',\n",
      "       'Native', 'Asian', 'Pacific', 'Income', 'GenderPop', 'Men', 'Women'],\n",
      "      dtype='object')\n",
      "0     3.75%\n",
      "1     5.91%\n",
      "2    29.57%\n",
      "3     6.22%\n",
      "4    37.29%\n",
      "Name: Hispanic, dtype: object\n"
     ]
    }
   ],
   "source": [
    "print(us_census.columns)\n",
    "print(us_census.Hispanic.head())"
   ]
  },
  {
   "cell_type": "markdown",
   "metadata": {},
   "source": [
    "14. Try to make a histogram for each one!\n",
    "\n",
    "    You will have to get the columns into the numerical format, and those percentage signs will have to go.\n",
    "    \n",
    "    Don't forget to fill the `nan` values with something that makes sense! You probably dropped the duplicate rows when making your last graph, but it couldn't hurt to check for duplicates again."
   ]
  },
  {
   "cell_type": "code",
   "execution_count": 106,
   "metadata": {},
   "outputs": [
    {
     "name": "stdout",
     "output_type": "stream",
     "text": [
      "   Unnamed: 0       State  TotalPop  Hispanic  White  Black  Native  Asian  \\\n",
      "0           0     Alabama   4830620      3.75  61.88  31.25    0.45   1.05   \n",
      "1           1      Alaska    733375      5.91  60.91   2.85   16.39   5.45   \n",
      "2           2     Arizona   6641928     29.57  57.12   3.85    4.36   2.88   \n",
      "3           3    Arkansas   2958208      6.22  71.14  18.97    0.52   1.14   \n",
      "4           4  California  38421464     37.29  40.22   5.68    0.41  13.05   \n",
      "\n",
      "   Pacific    Income            GenderPop       Men       Women  \n",
      "0     0.03  43296.36    2341093M_2489527F   2341093   2489527.0  \n",
      "1     1.06  70354.74      384160M_349215F    384160    349215.0  \n",
      "2     0.17  54207.82    3299088M_3342840F   3299088   3342840.0  \n",
      "3     0.15  41935.63    1451913M_1506295F   1451913   1506295.0  \n",
      "4     0.35  67264.78  19087135M_19334329F  19087135  19334329.0  \n"
     ]
    }
   ],
   "source": [
    "hispanic = []\n",
    "white = []\n",
    "black = []\n",
    "native = []\n",
    "asian = []\n",
    "pacific = []\n",
    "\n",
    "for item in us_census.Hispanic:\n",
    "    hispanic.append(item.replace('%', ''))\n",
    "for item in us_census.White:\n",
    "    white.append(item.replace('%', ''))\n",
    "for item in us_census.Black:\n",
    "    black.append(item.replace('%', ''))\n",
    "for item in us_census.Native:\n",
    "    native.append(item.replace('%', ''))\n",
    "for item in us_census.Asian:\n",
    "    asian.append(item.replace('%', ''))\n",
    "for item in us_census.Pacific:\n",
    "    if type(item) == float :\n",
    "        #continue\n",
    "        pacific.append(item)        \n",
    "    else:\n",
    "        pacific.append(item.replace('%', ''))\n",
    "us_census.Hispanic = hispanic\n",
    "us_census.White = white\n",
    "us_census.Black = black\n",
    "us_census.Native = native\n",
    "us_census.Asian = asian\n",
    "us_census.Pacific = pacific\n",
    "\n",
    "us_census.Hispanic = pd.to_numeric(us_census['Hispanic'])\n",
    "us_census.White = pd.to_numeric(us_census['White'])\n",
    "us_census.Black = pd.to_numeric(us_census['Black'])\n",
    "us_census.Native = pd.to_numeric(us_census['Native'])\n",
    "us_census.Asian = pd.to_numeric(us_census['Asian'])\n",
    "us_census.Pacific = pd.to_numeric(us_census['Pacific'].fillna(0.1))\n",
    "\n",
    "print(us_census.head())        \n",
    "    "
   ]
  },
  {
   "cell_type": "markdown",
   "metadata": {},
   "source": [
    "## Get Creative"
   ]
  },
  {
   "cell_type": "markdown",
   "metadata": {},
   "source": [
    "15. Phew. You've definitely impressed your boss on your first day of work.\n",
    "\n",
    "    But is there a way you really convey the power of pandas and Python over the drudgery of `csv` and Excel?\n",
    "    \n",
    "    Try to make some more interesting graphs to show your boss, and the world! You may need to clean the data even more to do it, or the cleaning you have already done may give you the ease of manipulation you've been searching for."
   ]
  },
  {
   "cell_type": "code",
   "execution_count": 112,
   "metadata": {},
   "outputs": [
    {
     "data": {
      "image/png": "[encoded data removed]",
      "text/plain": [
       "<Figure size 640x480 with 1 Axes>"
      ]
     },
     "metadata": {},
     "output_type": "display_data"
    }
   ],
   "source": [
    "plt.hist(us_census[['Hispanic','White', 'Black']])\n",
    "plt.show()"
   ]
  }
 ],
 "metadata": {
  "kernelspec": {
   "display_name": "Python 3 (ipykernel)",
   "language": "python",
   "name": "python3"
  },
  "language_info": {
   "codemirror_mode": {
    "name": "ipython",
    "version": 3
   },
   "file_extension": ".py",
   "mimetype": "text/x-python",
   "name": "python",
   "nbconvert_exporter": "python",
   "pygments_lexer": "ipython3",
   "version": "3.9.13"
  }
 },
 "nbformat": 4,
 "nbformat_minor": 2
}
